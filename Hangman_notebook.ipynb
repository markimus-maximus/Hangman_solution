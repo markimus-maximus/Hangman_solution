{
 "cells": [
  {
   "cell_type": "code",
   "execution_count": 2,
   "metadata": {},
   "outputs": [
    {
     "name": "stdout",
     "output_type": "stream",
     "text": [
      "[]\n",
      "['_', '_', '_', '_', '_', '_', '_', '_', '_', '_', '_']\n"
     ]
    }
   ],
   "source": [
    "word = 'willitblend'\n",
    "word_list = ['a', 'c']\n",
    "word_guessed = ['_', '_', '_', '_', '_', '_', '_', '_', '_', '_', '_']\n",
    "num_lives = 5\n",
    "\n",
    "def check_letter(letter):\n",
    "    #find_index_start sets the start letter of the index to 0, this changes at the bottom of the loop because the .find function only returns the first index \n",
    "    find_index_start = 0\n",
    "    matched_indices = []\n",
    "    # This function determines if the letter is in the word and returns the first index in the string\n",
    "    word_index_2 = word.find(letter, find_index_start)\n",
    "    #if the find function returns -1 then that means the letter is not in the word\n",
    "    \n",
    "    if word_index_2 > -1:\n",
    "        print('Nice! \"',letter,'\" is in the word!')\n",
    "        #the while loop continues as long as the find_index_start is lower than the length of the word\n",
    "        while find_index_start < len(word):\n",
    "            #the word_index is defined based on the find function output to finding indices in the word \n",
    "            word_index = word.find(letter, find_index_start)\n",
    "             #gets the next iteration of the .find function to restart by adding one to the start of the next search by adding 1 to the last index\n",
    "            find_index_start = word_index + 1\n",
    "            #the loop will carry on unless the loop is broken, this can be achieved when the starting index is greater\n",
    "            #than the last matching letter because the find function will return a -1, this is to know to stop the loop. \n",
    "            if word_index == -1:\n",
    "                break\n",
    "            #appends each iteration of the index matched indices into a list \n",
    "            matched_indices.append(word_index)    \n",
    "           \n",
    "            \n",
    "         \n",
    "    \n",
    "     \n",
    "    #turns the letter into a list which can then be swapped with the location of letter in the word. There have been multiple instances \n",
    "    #of letter included in this list because if there is only one instance then this will not work with multiple words\n",
    "    letter2 = [letter, letter, letter, letter, letter]\n",
    "    #this takes two lists, the matched_indices list containing the indices with matched within the word and the word_guessed which is the ongoing\n",
    "    #game word. Replaces _ with letter\n",
    "    for i in range(len(matched_indices)):         \n",
    "        word_guessed[matched_indices[i]] = letter2[i]\n",
    "        \n",
    "    print(matched_indices)\n",
    "\n",
    "    print(word_guessed) \n",
    "\n",
    "check_letter('z') "
   ]
  },
  {
   "cell_type": "code",
   "execution_count": 3,
   "metadata": {},
   "outputs": [
    {
     "name": "stdout",
     "output_type": "stream",
     "text": [
      "2\n"
     ]
    }
   ],
   "source": [
    "find_index_start = 0\n",
    "letter = 'l'\n",
    "word = 'willitblend'\n",
    "word_index = word.find(letter, find_index_start)\n",
    "        #if the find function returns -1 then that means the letter is not in the word\n",
    "print(word_index)\n",
    "         "
   ]
  },
  {
   "cell_type": "code",
   "execution_count": 4,
   "metadata": {},
   "outputs": [
    {
     "name": "stdout",
     "output_type": "stream",
     "text": [
      "Please, enter just one character\n",
      "Please, enter just one character\n",
      "Please, enter just one character\n",
      "\"a\" was already tried\n"
     ]
    }
   ],
   "source": [
    "# self taken out of parantheses of ask_letter as this is not a function\n",
    "\n",
    "def ask_letter():\n",
    "    word_list = ['a', 'c']        \n",
    "    while True:\n",
    "        letter_input_from_user = (input(\"Which letter do you choose\"))\n",
    "        letter_length = len(letter_input_from_user)\n",
    "        letter = letter_input_from_user.lower()\n",
    "        word_index_ask_letter = word.find(letter, 0)\n",
    "        \n",
    "        if letter_length > 1 : \n",
    "            print('Please, enter just one character')\n",
    "        elif  letter in word:\n",
    "            check_letter(letter)\n",
    "        elif letter in word_list:\n",
    "            print('\"{}\" was already tried'.format(letter))\n",
    "        elif word_index_ask_letter == -1:\n",
    "            print('Sorry, \"', letter, '\" is not in the word.')\n",
    "            print('You have',num_lives-1,'lives left')\n",
    "            num_lives - 1\n",
    "              \n",
    "    \n",
    "    \n",
    "    \n",
    "    \n",
    "\n",
    "ask_letter()\n",
    "\n",
    "\n",
    "    \n",
    "  \n",
    "        "
   ]
  },
  {
   "cell_type": "code",
   "execution_count": null,
   "metadata": {},
   "outputs": [],
   "source": []
  },
  {
   "cell_type": "code",
   "execution_count": null,
   "metadata": {},
   "outputs": [],
   "source": []
  },
  {
   "cell_type": "markdown",
   "metadata": {},
   "source": [
    "'''\n",
    "        Asks the user for a letter and checks two things:\n",
    "        1. If the letter has already been tried\n",
    "        2. If the character is a single character\n",
    "        If it passes both checks, it calls the check_letter method.\n",
    "        '''\n",
    "        # TODO 1: Ask the user for a letter iteratively until the user enters a valid letter\n",
    "        # TODO 1: Assign the letter to a variable called `letter`\n",
    "        # TODO 1: The letter has to comply with the following criteria: It has to be a single character. If it is not, print \"Please, enter just one character\"\n",
    "        # TODO 2. It has to be a letter that has not been tried yet. Use the list_letters attribute to check this. If it has been tried, print \"{letter} was already tried\".\n",
    "        # TODO 3: If the letter is valid, call the check_letter method\n",
    "        pass"
   ]
  },
  {
   "cell_type": "code",
   "execution_count": null,
   "metadata": {},
   "outputs": [
    {
     "ename": "NameError",
     "evalue": "name 'letter' is not defined",
     "output_type": "error",
     "traceback": [
      "\u001b[1;31m---------------------------------------------------------------------------\u001b[0m",
      "\u001b[1;31mNameError\u001b[0m                                 Traceback (most recent call last)",
      "\u001b[1;32mc:\\Users\\marko\\Desktop\\Hangman\\Hangman_notebook.ipynb Cell 4'\u001b[0m in \u001b[0;36m<cell line: 46>\u001b[1;34m()\u001b[0m\n\u001b[0;32m     <a href='vscode-notebook-cell:/c%3A/Users/marko/Desktop/Hangman/Hangman_notebook.ipynb#ch0000002?line=31'>32</a>\u001b[0m         \u001b[39mprint\u001b[39m(\u001b[39m'\u001b[39m\u001b[39mNice! \u001b[39m\u001b[39m\"\u001b[39m\u001b[39m'\u001b[39m,letter,\u001b[39m'\u001b[39m\u001b[39m\"\u001b[39m\u001b[39m is in the word!\u001b[39m\u001b[39m'\u001b[39m)\n\u001b[0;32m     <a href='vscode-notebook-cell:/c%3A/Users/marko/Desktop/Hangman/Hangman_notebook.ipynb#ch0000002?line=34'>35</a>\u001b[0m     \u001b[39mprint\u001b[39m(word_guessed)  \n\u001b[1;32m---> <a href='vscode-notebook-cell:/c%3A/Users/marko/Desktop/Hangman/Hangman_notebook.ipynb#ch0000002?line=45'>46</a>\u001b[0m check_letter(letter)\n",
      "\u001b[1;31mNameError\u001b[0m: name 'letter' is not defined"
     ]
    }
   ],
   "source": [
    "\n",
    "\n",
    "       \n",
    "\n",
    "\n",
    "   \n",
    "\n",
    "    \n",
    "\n",
    "    \n",
    "\n",
    "check_letter()\n",
    "    \n",
    "       \n",
    "       \n",
    "       \n"
   ]
  },
  {
   "cell_type": "markdown",
   "metadata": {},
   "source": [
    "''\n",
    "       \n",
    "        Checks if the letter is in the word.\n",
    "        If it is, it replaces the '_' in the word_guessed list with the letter.\n",
    "        If it is not, it reduces the number of lives by 1.\n",
    "        Parameters:\n",
    "        ----------\n",
    "        letter: str\n",
    "            The letter to be checked\n",
    "'''\n",
    "        # TODO 3: Check if the letter is in the word. TIP: You can use the lower() method to convert the letter to lowercase\n",
    "        # TODO 3: If the letter is in the word, replace the '_' in the word_guessed list with the letter\n",
    "        # TODO 3: If the letter is in the word, the number of UNIQUE letters in the word that have not been guessed yet has to be reduced by 1\n",
    "        # TODO 3: If the letter is not in the word, reduce the number of lives by 1\n",
    "        # Be careful! A letter can contain the same letter more than once. TIP: Take a look at the index() method in the string class\n",
    "        #  pass"
   ]
  }
 ],
 "metadata": {
  "kernelspec": {
   "display_name": "Python 3.10.5 64-bit",
   "language": "python",
   "name": "python3"
  },
  "language_info": {
   "codemirror_mode": {
    "name": "ipython",
    "version": 3
   },
   "file_extension": ".py",
   "mimetype": "text/x-python",
   "name": "python",
   "nbconvert_exporter": "python",
   "pygments_lexer": "ipython3",
   "version": "3.10.5"
  },
  "orig_nbformat": 4,
  "vscode": {
   "interpreter": {
    "hash": "0b4158c0de3566b734c6172715d060306cc14fb8cdd06f96dd34f7949c2579b4"
   }
  }
 },
 "nbformat": 4,
 "nbformat_minor": 2
}
